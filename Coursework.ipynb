{
 "cells": [
  {
   "cell_type": "markdown",
   "id": "36ebc929",
   "metadata": {},
   "source": [
    "# Курсовая работа\n",
    "# по дисциплине: «Численные методы»\n",
    "## на тему: «Численное интегрирование»"
   ]
  },
  {
   "cell_type": "markdown",
   "id": "9e47800d",
   "metadata": {},
   "source": [
    " "
   ]
  },
  {
   "cell_type": "code",
   "execution_count": 59,
   "id": "12a708e4",
   "metadata": {},
   "outputs": [],
   "source": [
    "import math\n",
    "import numpy as np"
   ]
  },
  {
   "cell_type": "markdown",
   "id": "77258e29",
   "metadata": {},
   "source": [
    "## Пример"
   ]
  },
  {
   "cell_type": "code",
   "execution_count": 70,
   "id": "e9b32ebc",
   "metadata": {},
   "outputs": [],
   "source": [
    "def yi(x):\n",
    "    return x / (x + 1)**2"
   ]
  },
  {
   "cell_type": "code",
   "execution_count": 71,
   "id": "7377b799",
   "metadata": {},
   "outputs": [],
   "source": [
    "a = 0\n",
    "b = 2\n",
    "n = 8\n",
    "n_ch = 7 "
   ]
  },
  {
   "cell_type": "code",
   "execution_count": 25,
   "id": "651e02b6",
   "metadata": {},
   "outputs": [],
   "source": [
    "def xi(x):\n",
    "    return (b + a) / 2 + (b - a) * x / 2 "
   ]
  },
  {
   "cell_type": "markdown",
   "id": "f704ad50",
   "metadata": {},
   "source": [
    "### Решение с помощью формулы Чебышева"
   ]
  },
  {
   "cell_type": "code",
   "execution_count": 26,
   "id": "3d07ace0",
   "metadata": {},
   "outputs": [],
   "source": [
    "ti_ch = [0, -0.883862, -0.529657, -0.322912, 0, 0.322912, 0.529657, 0.883862]"
   ]
  },
  {
   "cell_type": "code",
   "execution_count": 27,
   "id": "da243847",
   "metadata": {},
   "outputs": [],
   "source": [
    "summ1 = 0"
   ]
  },
  {
   "cell_type": "code",
   "execution_count": 28,
   "id": "fbc59efe",
   "metadata": {},
   "outputs": [
    {
     "name": "stdout",
     "output_type": "stream",
     "text": [
      "x1 = 0.11613799999999996 \t\t y1 = 0.09322632274891292\n",
      "x2 = 0.47034299999999996 \t\t y2 = 0.21755915748012242\n",
      "x3 = 0.677088 \t\t y3 = 0.24073177273056895\n",
      "x4 = 1.0 \t\t y4 = 0.25\n",
      "x5 = 1.322912 \t\t y5 = 0.24516893520210337\n",
      "x6 = 1.529657 \t\t y6 = 0.23904011078327156\n",
      "x7 = 1.8838620000000001 \t\t y7 = 0.2265166535678927\n"
     ]
    }
   ],
   "source": [
    "for i in range(1, n_ch + 1):\n",
    "    summ1 += yi(xi(ti_ch[i]))\n",
    "    print(\"x{} = {} \\t\\t y{} = {}\".format(i, xi(ti_ch[i]), i, yi(xi(ti_ch[i]))))"
   ]
  },
  {
   "cell_type": "code",
   "execution_count": 29,
   "id": "5e68c33a",
   "metadata": {},
   "outputs": [],
   "source": [
    "ans_ch = (b - a) / n_ch * summ1"
   ]
  },
  {
   "cell_type": "code",
   "execution_count": 30,
   "id": "a79bfd1d",
   "metadata": {},
   "outputs": [
    {
     "data": {
      "text/plain": [
       "0.4320694150036777"
      ]
     },
     "execution_count": 30,
     "metadata": {},
     "output_type": "execute_result"
    }
   ],
   "source": [
    "ans_ch"
   ]
  },
  {
   "cell_type": "markdown",
   "id": "f18a38ec",
   "metadata": {},
   "source": [
    "### Решение с помощью формулы Гаусса"
   ]
  },
  {
   "cell_type": "code",
   "execution_count": 31,
   "id": "680ed0bb",
   "metadata": {},
   "outputs": [],
   "source": [
    "ti = [0, -0.96028986, -0.79666648, -0.52553242, -0.18343464, 0.18343464, 0.52553242, 0.79666648, 0.96028986]"
   ]
  },
  {
   "cell_type": "code",
   "execution_count": 32,
   "id": "c6b2316d",
   "metadata": {},
   "outputs": [],
   "source": [
    "ai = [0, 0.10122854, 0.22238104, 0.31370664, 0.36268378, 0.36268378, 0.31370664, 0.22238104, 0.10122854]"
   ]
  },
  {
   "cell_type": "code",
   "execution_count": 33,
   "id": "d7f837fa",
   "metadata": {},
   "outputs": [],
   "source": [
    "def ci(x):\n",
    "    return (b - a) * x / 2"
   ]
  },
  {
   "cell_type": "code",
   "execution_count": 34,
   "id": "efa7e3f6",
   "metadata": {},
   "outputs": [
    {
     "name": "stdout",
     "output_type": "stream",
     "text": [
      "i = 1 \t t1 = -0.96028986 \t a1 = 0.10122854 \t x1 = 0.03971013999999995 \t y1 = 0.03673473058980166 \t  c1 = 0.10122854 \t y1*c1 = 0.003718603144898961 \n",
      "\n",
      "\n",
      "i = 2 \t t2 = -0.79666648 \t a2 = 0.22238104 \t x2 = 0.20333352000000005 \t y2 = 0.14042258056977602 \t  c2 = 0.22238104 \t y2*c2 = 0.031227319506590585 \n",
      "\n",
      "\n",
      "i = 3 \t t3 = -0.52553242 \t a3 = 0.31370664 \t x3 = 0.47446758 \t y3 = 0.21824087136293535 \t  c3 = 0.31370664 \t y3*c3 = 0.06846361046593867 \n",
      "\n",
      "\n",
      "i = 4 \t t4 = -0.18343464 \t a4 = 0.36268378 \t x4 = 0.81656536 \t y4 = 0.24745081910279215 \t  c4 = 0.36268378 \t y4*c4 = 0.08974639843629686 \n",
      "\n",
      "\n",
      "i = 5 \t t5 = 0.18343464 \t a5 = 0.36268378 \t x5 = 1.18343464 \t y5 = 0.24823549732946518 \t  c5 = 0.36268378 \t y5*c5 = 0.09003098850163034 \n",
      "\n",
      "\n",
      "i = 6 \t t6 = 0.52553242 \t a6 = 0.31370664 \t x6 = 1.52553242 \t y6 = 0.23917486955496944 \t  c6 = 0.31370664 \t y6*c6 = 0.07503074470052776 \n",
      "\n",
      "\n",
      "i = 7 \t t7 = 0.79666648 \t a7 = 0.22238104 \t x7 = 1.7966664799999998 \t y7 = 0.2297132842828914 \t  c7 = 0.22238104 \t y7*c7 = 0.05108387906064504 \n",
      "\n",
      "\n",
      "i = 8 \t t8 = 0.96028986 \t a8 = 0.10122854 \t x8 = 1.96028986 \t y8 = 0.22369270349807688 \t  c8 = 0.10122854 \t y8*c8 = 0.022644085783763215 \n",
      "\n",
      "\n"
     ]
    }
   ],
   "source": [
    "summ = 0\n",
    "for i in range(1, n+1):\n",
    "    summ += ci(ai[i]) * yi(xi(ti[i]))\n",
    "    print(\"i = {} \\t t{} = {} \\t a{} = {} \\t x{} = {} \\t y{} = {} \\t  c{} = {} \\t y{}*c{} = {} \\n\\n\".format(i, i, ti[i], i, ai[i], i, xi(ti[i]), i, yi(xi(ti[i])), i, ci(ai[i]), i, i, ci(ai[i])*yi(xi(ti[i]))))"
   ]
  },
  {
   "cell_type": "code",
   "execution_count": 35,
   "id": "0726b0c4",
   "metadata": {},
   "outputs": [
    {
     "data": {
      "text/plain": [
       "0.43194562960029137"
      ]
     },
     "execution_count": 35,
     "metadata": {},
     "output_type": "execute_result"
    }
   ],
   "source": [
    "summ"
   ]
  }
 ],
 "metadata": {
  "kernelspec": {
   "display_name": "Python 3",
   "language": "python",
   "name": "python3"
  },
  "language_info": {
   "codemirror_mode": {
    "name": "ipython",
    "version": 3
   },
   "file_extension": ".py",
   "mimetype": "text/x-python",
   "name": "python",
   "nbconvert_exporter": "python",
   "pygments_lexer": "ipython3",
   "version": "3.8.8"
  }
 },
 "nbformat": 4,
 "nbformat_minor": 5
}
